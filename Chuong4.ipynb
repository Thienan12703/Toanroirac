{
  "nbformat": 4,
  "nbformat_minor": 0,
  "metadata": {
    "colab": {
      "name": "Untitled1.ipynb",
      "provenance": [],
      "authorship_tag": "ABX9TyOGXCVng18eMlOWpQ5XXD2K",
      "include_colab_link": true
    },
    "kernelspec": {
      "name": "python3",
      "display_name": "Python 3"
    },
    "language_info": {
      "name": "python"
    }
  },
  "cells": [
    {
      "cell_type": "markdown",
      "metadata": {
        "id": "view-in-github",
        "colab_type": "text"
      },
      "source": [
        "<a href=\"https://colab.research.google.com/github/Thienan12703/Toanroirac/blob/main/Chuong4.ipynb\" target=\"_parent\"><img src=\"https://colab.research.google.com/assets/colab-badge.svg\" alt=\"Open In Colab\"/></a>"
      ]
    },
    {
      "cell_type": "markdown",
      "source": [
        "2. Sử dụng thư viện itertools với các phép toán hỗ trợ xử lý về tổ hợp \n"
      ],
      "metadata": {
        "id": "lV-lbrq0dnpG"
      }
    },
    {
      "cell_type": "markdown",
      "source": [
        "Tích tổng tích tụ (accumulate):"
      ],
      "metadata": {
        "id": "6v82xVN1dnni"
      }
    },
    {
      "cell_type": "code",
      "execution_count": 2,
      "metadata": {
        "colab": {
          "base_uri": "https://localhost:8080/"
        },
        "id": "AmpVwBN9djiv",
        "outputId": "75672fef-b7a2-42d1-ad59-3a859e50531c"
      },
      "outputs": [
        {
          "output_type": "stream",
          "name": "stdout",
          "text": [
            "1\n",
            "3\n",
            "6\n",
            "10\n",
            "15\n",
            "21\n",
            "28\n",
            "36\n",
            "45\n",
            "55\n"
          ]
        }
      ],
      "source": [
        "import itertools\n",
        "for i in itertools.accumulate([1,2,3,4,5,6,7,8,9,10]):\n",
        "  print(i) \n"
      ]
    },
    {
      "cell_type": "markdown",
      "source": [
        "Hàm lặp (repeat): Mỗi giá trị có thể được lặp lại nhiều lần"
      ],
      "metadata": {
        "id": "gEp_TSJgdnOa"
      }
    },
    {
      "cell_type": "code",
      "source": [
        "for i in itertools.repeat('Red', 3): \n",
        "  print (i)\n"
      ],
      "metadata": {
        "colab": {
          "base_uri": "https://localhost:8080/"
        },
        "id": "S19EiFrier2Z",
        "outputId": "d9fb994d-d87f-4a65-eba9-ee8eaf5fa592"
      },
      "execution_count": 3,
      "outputs": [
        {
          "output_type": "stream",
          "name": "stdout",
          "text": [
            "Red\n",
            "Red\n",
            "Red\n"
          ]
        }
      ]
    },
    {
      "cell_type": "markdown",
      "source": [
        "Tích Descartes:"
      ],
      "metadata": {
        "id": "DZsUW2d6dmWd"
      }
    },
    {
      "cell_type": "code",
      "source": [
        "for i in ((i, j) for i in [1, 2] for j in [6, 7, 8, 9]):\n",
        "  print(i)"
      ],
      "metadata": {
        "colab": {
          "base_uri": "https://localhost:8080/"
        },
        "id": "cA0k3HA9er34",
        "outputId": "4b9e9749-cd39-484a-98d2-ecdef27daf53"
      },
      "execution_count": 4,
      "outputs": [
        {
          "output_type": "stream",
          "name": "stdout",
          "text": [
            "(1, 6)\n",
            "(1, 7)\n",
            "(1, 8)\n",
            "(1, 9)\n",
            "(2, 6)\n",
            "(2, 7)\n",
            "(2, 8)\n",
            "(2, 9)\n"
          ]
        }
      ]
    },
    {
      "cell_type": "markdown",
      "source": [
        "Phương pháp 2: Sử dụng itertools: "
      ],
      "metadata": {
        "id": "c0uG9bISfwbJ"
      }
    },
    {
      "cell_type": "code",
      "source": [
        "import itertools\n",
        "for i in itertools.product('AB', 'C', 'DEF'):\n",
        "  print(i)"
      ],
      "metadata": {
        "id": "GRoZDDDefw3x"
      },
      "execution_count": null,
      "outputs": []
    },
    {
      "cell_type": "code",
      "source": [
        "for i in itertools.product('AB', 'C', 'DEF'):\n",
        "  print(i) \n"
      ],
      "metadata": {
        "colab": {
          "base_uri": "https://localhost:8080/"
        },
        "id": "jqmdb1uqgExg",
        "outputId": "6f033d88-3019-4f18-f231-0f14f1db284f"
      },
      "execution_count": 5,
      "outputs": [
        {
          "output_type": "stream",
          "name": "stdout",
          "text": [
            "('A', 'C', 'D')\n",
            "('A', 'C', 'E')\n",
            "('A', 'C', 'F')\n",
            "('B', 'C', 'D')\n",
            "('B', 'C', 'E')\n",
            "('B', 'C', 'F')\n"
          ]
        }
      ]
    },
    {
      "cell_type": "code",
      "source": [
        "for i in itertools.product('24', 'IT', repeat = 2):\n",
        "  print(i)\n",
        "   \n"
      ],
      "metadata": {
        "colab": {
          "base_uri": "https://localhost:8080/"
        },
        "id": "bF1OQZ27gbQ3",
        "outputId": "e966570e-65a5-4aed-eeda-2ef7c07cb3a2"
      },
      "execution_count": 6,
      "outputs": [
        {
          "output_type": "stream",
          "name": "stdout",
          "text": [
            "('2', 'I', '2', 'I')\n",
            "('2', 'I', '2', 'T')\n",
            "('2', 'I', '4', 'I')\n",
            "('2', 'I', '4', 'T')\n",
            "('2', 'T', '2', 'I')\n",
            "('2', 'T', '2', 'T')\n",
            "('2', 'T', '4', 'I')\n",
            "('2', 'T', '4', 'T')\n",
            "('4', 'I', '2', 'I')\n",
            "('4', 'I', '2', 'T')\n",
            "('4', 'I', '4', 'I')\n",
            "('4', 'I', '4', 'T')\n",
            "('4', 'T', '2', 'I')\n",
            "('4', 'T', '2', 'T')\n",
            "('4', 'T', '4', 'I')\n",
            "('4', 'T', '4', 'T')\n"
          ]
        }
      ]
    },
    {
      "cell_type": "markdown",
      "source": [
        "Hoán vị (permutation):"
      ],
      "metadata": {
        "id": "JeUBA9U6glwf"
      }
    },
    {
      "cell_type": "code",
      "source": [
        "from itertools import permutations\n",
        "for i in permutations('ABC'):\n",
        "  print(i)"
      ],
      "metadata": {
        "colab": {
          "base_uri": "https://localhost:8080/"
        },
        "id": "kj8s6Agegl_w",
        "outputId": "25f63786-5cbc-43dc-99e0-2e60cca9f3ae"
      },
      "execution_count": 7,
      "outputs": [
        {
          "output_type": "stream",
          "name": "stdout",
          "text": [
            "('A', 'B', 'C')\n",
            "('A', 'C', 'B')\n",
            "('B', 'A', 'C')\n",
            "('B', 'C', 'A')\n",
            "('C', 'A', 'B')\n",
            "('C', 'B', 'A')\n"
          ]
        }
      ]
    },
    {
      "cell_type": "markdown",
      "source": [
        "Chỉnh hợp chập k từ n (permutation)"
      ],
      "metadata": {
        "id": "HW_meak-hJpG"
      }
    },
    {
      "cell_type": "code",
      "source": [
        "from itertools import permutations\n",
        "for i in permutations('ABC', 2):\n",
        "  print(i)"
      ],
      "metadata": {
        "colab": {
          "base_uri": "https://localhost:8080/"
        },
        "id": "gVcqmDL4hMtN",
        "outputId": "cbe7b56f-9239-4e79-cac5-c10e7419542b"
      },
      "execution_count": 8,
      "outputs": [
        {
          "output_type": "stream",
          "name": "stdout",
          "text": [
            "('A', 'B')\n",
            "('A', 'C')\n",
            "('B', 'A')\n",
            "('B', 'C')\n",
            "('C', 'A')\n",
            "('C', 'B')\n"
          ]
        }
      ]
    },
    {
      "cell_type": "markdown",
      "source": [
        "Tổ hợp (combinations):"
      ],
      "metadata": {
        "id": "oTzM2q2BhUj9"
      }
    },
    {
      "cell_type": "code",
      "source": [
        "for i in itertools.combinations('ABCDE',3):\n",
        "  print(i) "
      ],
      "metadata": {
        "colab": {
          "base_uri": "https://localhost:8080/"
        },
        "id": "Lwb4QPF6hch9",
        "outputId": "57da3f7b-76d7-42f7-b2d5-86e71f04a714"
      },
      "execution_count": 9,
      "outputs": [
        {
          "output_type": "stream",
          "name": "stdout",
          "text": [
            "('A', 'B', 'C')\n",
            "('A', 'B', 'D')\n",
            "('A', 'B', 'E')\n",
            "('A', 'C', 'D')\n",
            "('A', 'C', 'E')\n",
            "('A', 'D', 'E')\n",
            "('B', 'C', 'D')\n",
            "('B', 'C', 'E')\n",
            "('B', 'D', 'E')\n",
            "('C', 'D', 'E')\n"
          ]
        }
      ]
    },
    {
      "cell_type": "markdown",
      "source": [
        "ví dụ khác:"
      ],
      "metadata": {
        "id": "D6bM20AzjIJU"
      }
    },
    {
      "cell_type": "code",
      "source": [
        "import itertools \n",
        "nhaccu = 'Đàn Trống Sáo Bo'.split() \n",
        "chonmua2mon = list(itertools.combinations(nhaccu, 2)) \n",
        "chonmua2mon"
      ],
      "metadata": {
        "colab": {
          "base_uri": "https://localhost:8080/"
        },
        "id": "C1SDAPE-jYYp",
        "outputId": "7c5d591b-c1b4-437e-a7d4-54478f71155c"
      },
      "execution_count": 10,
      "outputs": [
        {
          "output_type": "execute_result",
          "data": {
            "text/plain": [
              "[('Đàn', 'Trống'),\n",
              " ('Đàn', 'Sáo'),\n",
              " ('Đàn', 'Bo'),\n",
              " ('Trống', 'Sáo'),\n",
              " ('Trống', 'Bo'),\n",
              " ('Sáo', 'Bo')]"
            ]
          },
          "metadata": {},
          "execution_count": 10
        }
      ]
    },
    {
      "cell_type": "markdown",
      "source": [
        "Tổ hợp có lặp (combinations): "
      ],
      "metadata": {
        "id": "A4oFyAzsjwC_"
      }
    },
    {
      "cell_type": "code",
      "source": [
        "for i in itertools.combinations_with_replacement('ABCDE', 3):\n",
        "  print(i)"
      ],
      "metadata": {
        "colab": {
          "base_uri": "https://localhost:8080/"
        },
        "id": "pDXTWHcdjyqK",
        "outputId": "4603606b-de65-4c89-92b4-ad07b9ef6869"
      },
      "execution_count": 11,
      "outputs": [
        {
          "output_type": "stream",
          "name": "stdout",
          "text": [
            "('A', 'A', 'A')\n",
            "('A', 'A', 'B')\n",
            "('A', 'A', 'C')\n",
            "('A', 'A', 'D')\n",
            "('A', 'A', 'E')\n",
            "('A', 'B', 'B')\n",
            "('A', 'B', 'C')\n",
            "('A', 'B', 'D')\n",
            "('A', 'B', 'E')\n",
            "('A', 'C', 'C')\n",
            "('A', 'C', 'D')\n",
            "('A', 'C', 'E')\n",
            "('A', 'D', 'D')\n",
            "('A', 'D', 'E')\n",
            "('A', 'E', 'E')\n",
            "('B', 'B', 'B')\n",
            "('B', 'B', 'C')\n",
            "('B', 'B', 'D')\n",
            "('B', 'B', 'E')\n",
            "('B', 'C', 'C')\n",
            "('B', 'C', 'D')\n",
            "('B', 'C', 'E')\n",
            "('B', 'D', 'D')\n",
            "('B', 'D', 'E')\n",
            "('B', 'E', 'E')\n",
            "('C', 'C', 'C')\n",
            "('C', 'C', 'D')\n",
            "('C', 'C', 'E')\n",
            "('C', 'D', 'D')\n",
            "('C', 'D', 'E')\n",
            "('C', 'E', 'E')\n",
            "('D', 'D', 'D')\n",
            "('D', 'D', 'E')\n",
            "('D', 'E', 'E')\n",
            "('E', 'E', 'E')\n"
          ]
        }
      ]
    },
    {
      "cell_type": "markdown",
      "source": [
        "Xoay vòng giá trị cần lấy: "
      ],
      "metadata": {
        "id": "4gjklWACkC3Z"
      }
    },
    {
      "cell_type": "code",
      "source": [
        "for i in itertools.repeat('Red', 3): \n",
        " print (i) "
      ],
      "metadata": {
        "colab": {
          "base_uri": "https://localhost:8080/"
        },
        "id": "IdJrhKr_kDVo",
        "outputId": "1d14d56d-7533-4c84-a274-69db69dc5caa"
      },
      "execution_count": 12,
      "outputs": [
        {
          "output_type": "stream",
          "name": "stdout",
          "text": [
            "Red\n",
            "Red\n",
            "Red\n"
          ]
        }
      ]
    },
    {
      "cell_type": "markdown",
      "source": [
        "3. Ôn luyện cơ bản về Python: Hàm ngẫu nhiên toán học và lặp trong Python \n"
      ],
      "metadata": {
        "id": "qnLSAfOCkT31"
      }
    },
    {
      "cell_type": "markdown",
      "source": [
        "3.1. Cơ bản về hàm ngẫu nhiên trong Python \n"
      ],
      "metadata": {
        "id": "8uA1OFTokUbW"
      }
    },
    {
      "cell_type": "markdown",
      "source": [
        "Chọn ngẫu nhiên trong tập hợp có sẵn:"
      ],
      "metadata": {
        "id": "D2iZLORgkX7l"
      }
    },
    {
      "cell_type": "code",
      "source": [
        " import random \n",
        "random.choice(['Táo', 'Lê', 'Ổi', 'Chuối'])"
      ],
      "metadata": {
        "colab": {
          "base_uri": "https://localhost:8080/",
          "height": 35
        },
        "id": "l9szU4P6kb4t",
        "outputId": "bbf4f03a-6b0b-48d1-8505-eeba887d7a73"
      },
      "execution_count": 13,
      "outputs": [
        {
          "output_type": "execute_result",
          "data": {
            "text/plain": [
              "'Chuối'"
            ],
            "application/vnd.google.colaboratory.intrinsic+json": {
              "type": "string"
            }
          },
          "metadata": {},
          "execution_count": 13
        }
      ]
    },
    {
      "cell_type": "code",
      "source": [
        "random.random()"
      ],
      "metadata": {
        "colab": {
          "base_uri": "https://localhost:8080/"
        },
        "id": "WUuFA5krkght",
        "outputId": "7ceee8a0-f26c-4f38-aa7b-505e009f63d1"
      },
      "execution_count": 14,
      "outputs": [
        {
          "output_type": "execute_result",
          "data": {
            "text/plain": [
              "0.1290281247589501"
            ]
          },
          "metadata": {},
          "execution_count": 14
        }
      ]
    },
    {
      "cell_type": "code",
      "source": [
        "random. uniform(4.9, 10.0) "
      ],
      "metadata": {
        "colab": {
          "base_uri": "https://localhost:8080/"
        },
        "id": "0MSsXLWBkjFe",
        "outputId": "6c2732d2-f9e4-4bee-d5a1-00a3da4c9c49"
      },
      "execution_count": 15,
      "outputs": [
        {
          "output_type": "execute_result",
          "data": {
            "text/plain": [
              "5.650628866694528"
            ]
          },
          "metadata": {},
          "execution_count": 15
        }
      ]
    },
    {
      "cell_type": "code",
      "source": [
        "random.randrange(6)"
      ],
      "metadata": {
        "colab": {
          "base_uri": "https://localhost:8080/"
        },
        "id": "3tV0CpffklMm",
        "outputId": "0e594c33-bc64-4557-d247-69d2f7537aa2"
      },
      "execution_count": 16,
      "outputs": [
        {
          "output_type": "execute_result",
          "data": {
            "text/plain": [
              "0"
            ]
          },
          "metadata": {},
          "execution_count": 16
        }
      ]
    },
    {
      "cell_type": "code",
      "source": [
        "random.randrange(50, 500)"
      ],
      "metadata": {
        "colab": {
          "base_uri": "https://localhost:8080/"
        },
        "id": "oH6qwL_skqIG",
        "outputId": "b6b421d9-f71f-4738-8336-c440c4d5b0c6"
      },
      "execution_count": 17,
      "outputs": [
        {
          "output_type": "execute_result",
          "data": {
            "text/plain": [
              "93"
            ]
          },
          "metadata": {},
          "execution_count": 17
        }
      ]
    },
    {
      "cell_type": "code",
      "source": [
        "random.randrange(20, 100, 2)"
      ],
      "metadata": {
        "colab": {
          "base_uri": "https://localhost:8080/"
        },
        "id": "XDIQEUiLkrC4",
        "outputId": "028612ff-16d3-41a4-b488-ec15ddc513eb"
      },
      "execution_count": 18,
      "outputs": [
        {
          "output_type": "execute_result",
          "data": {
            "text/plain": [
              "92"
            ]
          },
          "metadata": {},
          "execution_count": 18
        }
      ]
    },
    {
      "cell_type": "code",
      "source": [
        "random.sample(range(100), 10)"
      ],
      "metadata": {
        "colab": {
          "base_uri": "https://localhost:8080/"
        },
        "id": "RAYtZ1zXku5X",
        "outputId": "a0d4950a-e1a0-41dd-cb6d-431d551080ac"
      },
      "execution_count": 19,
      "outputs": [
        {
          "output_type": "execute_result",
          "data": {
            "text/plain": [
              "[44, 46, 81, 60, 23, 75, 40, 19, 0, 71]"
            ]
          },
          "metadata": {},
          "execution_count": 19
        }
      ]
    },
    {
      "cell_type": "code",
      "source": [
        "random.sample(range(10, 100), 15)"
      ],
      "metadata": {
        "colab": {
          "base_uri": "https://localhost:8080/"
        },
        "id": "wzaIuWQgkv_1",
        "outputId": "b0009f90-b343-44af-e020-94b39b3c7bf8"
      },
      "execution_count": 20,
      "outputs": [
        {
          "output_type": "execute_result",
          "data": {
            "text/plain": [
              "[23, 72, 21, 20, 61, 54, 45, 89, 86, 90, 41, 10, 76, 73, 32]"
            ]
          },
          "metadata": {},
          "execution_count": 20
        }
      ]
    },
    {
      "cell_type": "code",
      "source": [
        "chars = ['a', 'b', 'c', 'd', 'e', 'f', 'g', 'h', 'i', 'j'] \n",
        "rand5_char = random.sample(chars, 5) \n",
        "print (rand5_char) "
      ],
      "metadata": {
        "colab": {
          "base_uri": "https://localhost:8080/"
        },
        "id": "0xifDiB4kylO",
        "outputId": "00628588-0bf9-4c77-d36f-a6ca6ef7929d"
      },
      "execution_count": 21,
      "outputs": [
        {
          "output_type": "stream",
          "name": "stdout",
          "text": [
            "['j', 'f', 'g', 'i', 'd']\n"
          ]
        }
      ]
    },
    {
      "cell_type": "markdown",
      "source": [
        "3.2. Ứng dụng minh họa: Vẽ ngẫu nhiên Eclipse \n"
      ],
      "metadata": {
        "id": "fGz_aGbVlJwR"
      }
    },
    {
      "cell_type": "code",
      "source": [
        "import matplotlib.pyplot as plt\n",
        "import numpy.random as rnd\n",
        "from matplotlib.patches import Ellipse\n",
        "\n",
        "NUM = 250 # Vẽ 250 eclipse ngẫu nhiên vị trí, góc:\n",
        "\n",
        "ells = [Ellipse (xy = rnd.rand(2)*10, width = rnd.rand(), height = rnd.rand(), angle = rnd.rand()*360)\n",
        "  for i in range (NUM) ] \n",
        "fig = plt.figure(0)\n",
        "ax = fig.add_subplot(111, aspect = 'equal')\n",
        "for e in ells:\n",
        "  ax.add_artist(e)\n",
        "  e.set_clip_box(ax.bbox)\n",
        "  e.set_alpha(rnd.rand())\n",
        "  e.set_facecolor(rnd.rand(3))\n",
        "  ax.set_xlim(0, 10)\n",
        "ax.set_ylim(0, 10)\n",
        "\n",
        "plt.show"
      ],
      "metadata": {
        "colab": {
          "base_uri": "https://localhost:8080/",
          "height": 286
        },
        "id": "0hamUqo4lfMc",
        "outputId": "1012b831-3ace-49c8-afaa-5a1f8883df0f"
      },
      "execution_count": 22,
      "outputs": [
        {
          "output_type": "execute_result",
          "data": {
            "text/plain": [
              "<function matplotlib.pyplot.show>"
            ]
          },
          "metadata": {},
          "execution_count": 22
        },
        {
          "output_type": "display_data",
          "data": {
            "text/plain": [
              "<Figure size 432x288 with 1 Axes>"
            ],
            "image/png": "[encoded data removed]"
          },
          "metadata": {
            "needs_background": "light"
          }
        }
      ]
    },
    {
      "cell_type": "markdown",
      "source": [
        "3.3. Bài toán ứng dụng 1: Giới thiệu Roullete Wheel – “Chiếc nón kì diệu” \n"
      ],
      "metadata": {
        "id": "etyNFvaNmMOO"
      }
    },
    {
      "cell_type": "markdown",
      "source": [
        ""
      ],
      "metadata": {
        "id": "qG48tnPvnTJ0"
      }
    },
    {
      "cell_type": "code",
      "source": [
        "from __future__ import division\n",
        "import numpy as np\n",
        "import random,pdb\n",
        "import operator\n",
        "\n",
        "def roulette_selection(weights):\n",
        "  '''performs weighted selection or roulette wheel selection on a list And returns the index selected from the list'''\n",
        "\n",
        "  # sort the weights in ascending order\n",
        "  sorted_indexed_weights  = sorted(enumerate(weights), key=operator.itemgetter(1)); indices, sorted_weights = zip(*sorted_indexed_weights);\n",
        "  # calculate the cumulative propability\n",
        "  tot_sum = sum(sorted_weights)\n",
        "  prob = [x/tot_sum for x in sorted_weights]\n",
        "  cum_prob=np.cumsum(prob)\n",
        "  # select random a number in the range [0,1]\n",
        "  random_num=random.random()\n",
        "\n",
        "  for index_value, cum_prob_value in zip(indices,cum_prob):\n",
        "    if random_num < cum_prob_value:\n",
        "      return index_value"
      ],
      "metadata": {
        "id": "NK5emhy-pMGf"
      },
      "execution_count": 33,
      "outputs": []
    },
    {
      "cell_type": "code",
      "source": [
        "xanhdo =[87, 3, 20]\n",
        "for i in range(20): \n",
        " print (roulette_selection(xanhdo)) "
      ],
      "metadata": {
        "colab": {
          "base_uri": "https://localhost:8080/"
        },
        "id": "tWXANVlMpdQ0",
        "outputId": "d7b6c212-d42e-4183-b81f-cd542ec69634"
      },
      "execution_count": 34,
      "outputs": [
        {
          "output_type": "stream",
          "name": "stdout",
          "text": [
            "0\n",
            "0\n",
            "0\n",
            "0\n",
            "2\n",
            "0\n",
            "0\n",
            "2\n",
            "0\n",
            "0\n",
            "2\n",
            "0\n",
            "0\n",
            "0\n",
            "2\n",
            "0\n",
            "0\n",
            "0\n",
            "0\n",
            "2\n"
          ]
        }
      ]
    },
    {
      "cell_type": "code",
      "source": [
        "xanhdo =[27, 3, 30]\n",
        "for i in range(20): \n",
        " print (roulette_selection(xanhdo))"
      ],
      "metadata": {
        "colab": {
          "base_uri": "https://localhost:8080/"
        },
        "id": "ohBJNrpPpjeF",
        "outputId": "be26d8c6-e77c-47bb-f387-401b3b4851cb"
      },
      "execution_count": 35,
      "outputs": [
        {
          "output_type": "stream",
          "name": "stdout",
          "text": [
            "2\n",
            "2\n",
            "2\n",
            "0\n",
            "2\n",
            "0\n",
            "2\n",
            "2\n",
            "0\n",
            "0\n",
            "2\n",
            "2\n",
            "0\n",
            "0\n",
            "2\n",
            "0\n",
            "2\n",
            "0\n",
            "0\n",
            "0\n"
          ]
        }
      ]
    },
    {
      "cell_type": "markdown",
      "source": [
        "5. Bài toán ứng dụng 2: Chọn tập các camera quan sát hội chợ "
      ],
      "metadata": {
        "id": "FmbhRY3cpwG1"
      }
    },
    {
      "cell_type": "markdown",
      "source": [
        "+ Hàm tìm số lượng phần tử có trong tập A mà không có trong tập B"
      ],
      "metadata": {
        "id": "8btLmExxp4mc"
      }
    },
    {
      "cell_type": "code",
      "source": [
        "def difference(A, B): \n",
        " phantu_moi = 0 # phần tử có trong tập A mà không có trong tập B \n",
        " for x in A: \n",
        "  if x not in B: \n",
        "    phantu_moi = phantu_moi + 1 \n",
        " return phantu_moi"
      ],
      "metadata": {
        "id": "GvKE4T4fqD9s"
      },
      "execution_count": 36,
      "outputs": []
    },
    {
      "cell_type": "markdown",
      "source": [
        "+ Hàm thêm những phần tử trong tập A mà không có trong tập B vào tập B:"
      ],
      "metadata": {
        "id": "QQXb4_FrqLAT"
      }
    },
    {
      "cell_type": "code",
      "source": [
        "def add(A,B): \n",
        " ketqua = B \n",
        " for x in A: \n",
        "  if x not in B: \n",
        "   ketqua = ketqua + [x] \n",
        " return ketqua"
      ],
      "metadata": {
        "id": "hatbzVBTqr5T"
      },
      "execution_count": 38,
      "outputs": []
    },
    {
      "cell_type": "markdown",
      "source": [
        "Thực hiện xử lý: \n",
        "+ Khai báo các camera phủ các khu vực: "
      ],
      "metadata": {
        "id": "A4TzVxoDqxqS"
      }
    },
    {
      "cell_type": "code",
      "source": [
        "I = [1, 3, 4, 6, 7] \n",
        "II = [4, 7, 8, 12] \n",
        "III = [2, 5, 9, 11, 13] \n",
        "IV = [1, 2, 18, 19, 21] \n",
        "V = [3, 6, 10, 12, 14] \n",
        "VI = [8, 14, 15, 16, 17] \n",
        "VII = [18, 21, 24, 25] \n",
        "VIII = [2, 10, 16, 23] \n",
        "IX = [1, 6, 11] \n",
        "X = [20, 22, 24, 25] \n",
        "XI = [2, 4, 6, 8] \n",
        "XII =[1, 6, 12, 17]"
      ],
      "metadata": {
        "id": "yr2SuZFLqyJv"
      },
      "execution_count": 39,
      "outputs": []
    },
    {
      "cell_type": "code",
      "source": [
        "cameras = [I, II, III, IV, V, VI, VII, VIII, IX, X, XI, XII] \n",
        "khuvuc = range(1,26) # 25 khu vực từ 1 đến 25"
      ],
      "metadata": {
        "id": "ZIBNJic6q88K"
      },
      "execution_count": 40,
      "outputs": []
    },
    {
      "cell_type": "code",
      "source": [
        "tapphu = [] # Ban đầu tập phủ là tập rỗng. \n",
        "while len(tapphu)<len(khuvuc): \n",
        " max_new_cameras = 0 # số các camera mới nhiều nhất có thể thêm vào tập phủ\n",
        " for camera in cameras: \n",
        "  max_new_cameras = max(difference(camera, tapphu), max_new_cameras) \n",
        " luachon = 0 # duyệt lần nữa để tìm vị trí camera có số khu vực phủ nhiều nhất như trên\n",
        " while difference(cameras[luachon], tapphu) < max_new_cameras: \n",
        "  luachon = luachon +1# vi tri camera se duoc chon \n",
        " if (luachon < len(cameras)): # để đảm bảo vị trí cameras là tồn tại\n",
        "  tapphu = add(cameras[luachon], tapphu) \n",
        "  print ('Camera: ', luachon+1, cameras[luachon], tapphu)"
      ],
      "metadata": {
        "colab": {
          "base_uri": "https://localhost:8080/"
        },
        "id": "vH02FN_TqKiF",
        "outputId": "e15b9f20-3826-4374-9da8-b24591eee4e2"
      },
      "execution_count": 42,
      "outputs": [
        {
          "output_type": "stream",
          "name": "stdout",
          "text": [
            "Camera:  1 [1, 3, 4, 6, 7] [1, 3, 4, 6, 7]\n",
            "Camera:  3 [2, 5, 9, 11, 13] [1, 3, 4, 6, 7, 2, 5, 9, 11, 13]\n",
            "Camera:  6 [8, 14, 15, 16, 17] [1, 3, 4, 6, 7, 2, 5, 9, 11, 13, 8, 14, 15, 16, 17]\n",
            "Camera:  7 [18, 21, 24, 25] [1, 3, 4, 6, 7, 2, 5, 9, 11, 13, 8, 14, 15, 16, 17, 18, 21, 24, 25]\n",
            "Camera:  5 [3, 6, 10, 12, 14] [1, 3, 4, 6, 7, 2, 5, 9, 11, 13, 8, 14, 15, 16, 17, 18, 21, 24, 25, 10, 12]\n",
            "Camera:  10 [20, 22, 24, 25] [1, 3, 4, 6, 7, 2, 5, 9, 11, 13, 8, 14, 15, 16, 17, 18, 21, 24, 25, 10, 12, 20, 22]\n",
            "Camera:  4 [1, 2, 18, 19, 21] [1, 3, 4, 6, 7, 2, 5, 9, 11, 13, 8, 14, 15, 16, 17, 18, 21, 24, 25, 10, 12, 20, 22, 19]\n",
            "Camera:  8 [2, 10, 16, 23] [1, 3, 4, 6, 7, 2, 5, 9, 11, 13, 8, 14, 15, 16, 17, 18, 21, 24, 25, 10, 12, 20, 22, 19, 23]\n"
          ]
        }
      ]
    },
    {
      "cell_type": "code",
      "source": [
        "tapphu.sort() \n",
        "print (tapphu)"
      ],
      "metadata": {
        "colab": {
          "base_uri": "https://localhost:8080/"
        },
        "id": "T4jgPijdrw8Q",
        "outputId": "8d1c47bf-51c2-4fa3-df6c-2d8943fc6e95"
      },
      "execution_count": 43,
      "outputs": [
        {
          "output_type": "stream",
          "name": "stdout",
          "text": [
            "[1, 2, 3, 4, 5, 6, 7, 8, 9, 10, 11, 12, 13, 14, 15, 16, 17, 18, 19, 20, 21, 22, 23, 24, 25]\n"
          ]
        }
      ]
    }
  ]
}