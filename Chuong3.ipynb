{
  "nbformat": 4,
  "nbformat_minor": 0,
  "metadata": {
    "colab": {
      "name": "Chuong3.ipynb",
      "provenance": [],
      "authorship_tag": "ABX9TyPicaWFaBQKoovyaTZGOYZ5",
      "include_colab_link": true
    },
    "kernelspec": {
      "name": "python3",
      "display_name": "Python 3"
    },
    "language_info": {
      "name": "python"
    }
  },
  "cells": [
    {
      "cell_type": "markdown",
      "metadata": {
        "id": "view-in-github",
        "colab_type": "text"
      },
      "source": [
        "<a href=\"https://colab.research.google.com/github/Thienan12703/Toanroirac/blob/main/Chuong3.ipynb\" target=\"_parent\"><img src=\"https://colab.research.google.com/assets/colab-badge.svg\" alt=\"Open In Colab\"/></a>"
      ]
    },
    {
      "cell_type": "markdown",
      "source": [
        "ví dụ 1"
      ],
      "metadata": {
        "id": "dhFkEHkZsExP"
      }
    },
    {
      "cell_type": "code",
      "source": [
        "bongda_VN = ['‘Văn Lâm’, ‘Tiến Dũng’, ‘Anh Đức’, ‘Công Phượng’']\n",
        "for cau_thu in bongda_VN:\n",
        "  print (\"Ten cau thu VietNam: \", cau_thu)"
      ],
      "metadata": {
        "colab": {
          "base_uri": "https://localhost:8080/"
        },
        "id": "NBuNAA1CsF83",
        "outputId": "e8c0b1ad-2456-4c62-f284-2e7227d7a8c3"
      },
      "execution_count": 1,
      "outputs": [
        {
          "output_type": "stream",
          "name": "stdout",
          "text": [
            "Ten cau thu VietNam:  ‘Văn Lâm’, ‘Tiến Dũng’, ‘Anh Đức’, ‘Công Phượng’\n"
          ]
        }
      ]
    },
    {
      "cell_type": "markdown",
      "source": [
        "ví dụ 2\n"
      ],
      "metadata": {
        "id": "aX1KH5z3sX2P"
      }
    },
    {
      "cell_type": "code",
      "source": [
        "bongda_TG = ['‘Messi’, ‘Ronaldo’, ‘Thonglao’, ‘Mbappé’']\n",
        "for cau_thu in bongda_TG:\n",
        "  print (\"Ten cau thu The gioi: \", cau_thu)"
      ],
      "metadata": {
        "colab": {
          "base_uri": "https://localhost:8080/"
        },
        "id": "JJzohaR-sbCw",
        "outputId": "7f1253eb-1987-461c-9a8b-34a819f2d61b"
      },
      "execution_count": 3,
      "outputs": [
        {
          "output_type": "stream",
          "name": "stdout",
          "text": [
            "Ten cau thu The gioi:  ‘Messi’, ‘Ronaldo’, ‘Thonglao’, ‘Mbappé’\n"
          ]
        }
      ]
    },
    {
      "cell_type": "markdown",
      "source": [
        "ví dụ 3\n"
      ],
      "metadata": {
        "id": "v6jDeeO-syug"
      }
    },
    {
      "cell_type": "code",
      "source": [
        "for bong_VN in bongda_VN:\n",
        "  for bong_TG in bongda_TG:\n",
        "    print (\"Khả năng tranh chấp quả bóng vàng giữa: \", bong_VN, \" với \", bong_TG)"
      ],
      "metadata": {
        "colab": {
          "base_uri": "https://localhost:8080/"
        },
        "id": "YfXULSggsz2H",
        "outputId": "16f9a64d-d1cd-4e88-e8b7-db7c188bbfdc"
      },
      "execution_count": 4,
      "outputs": [
        {
          "output_type": "stream",
          "name": "stdout",
          "text": [
            "Khả năng tranh chấp quả bóng vàng giữa:  ‘Văn Lâm’, ‘Tiến Dũng’, ‘Anh Đức’, ‘Công Phượng’  với  ‘Messi’, ‘Ronaldo’, ‘Thonglao’, ‘Mbappé’\n"
          ]
        }
      ]
    },
    {
      "cell_type": "markdown",
      "source": [
        "ví dụ 4\n"
      ],
      "metadata": {
        "id": "tXGbK89js6bg"
      }
    },
    {
      "cell_type": "code",
      "source": [
        "N = 4 #  giả định các số nguyên không vượt quá N là 4\n",
        "for i1 in range(0, N):\n",
        "  for i2 in range(0, N):\n",
        "    for i3 in range(0, N):\n",
        "      print (i1, i2, i3)"
      ],
      "metadata": {
        "colab": {
          "base_uri": "https://localhost:8080/"
        },
        "id": "V6EH1xpXs79u",
        "outputId": "6676e1ee-2ba0-4d13-c302-7fbc2a28da31"
      },
      "execution_count": 5,
      "outputs": [
        {
          "output_type": "stream",
          "name": "stdout",
          "text": [
            "0 0 0\n",
            "0 0 1\n",
            "0 0 2\n",
            "0 0 3\n",
            "0 1 0\n",
            "0 1 1\n",
            "0 1 2\n",
            "0 1 3\n",
            "0 2 0\n",
            "0 2 1\n",
            "0 2 2\n",
            "0 2 3\n",
            "0 3 0\n",
            "0 3 1\n",
            "0 3 2\n",
            "0 3 3\n",
            "1 0 0\n",
            "1 0 1\n",
            "1 0 2\n",
            "1 0 3\n",
            "1 1 0\n",
            "1 1 1\n",
            "1 1 2\n",
            "1 1 3\n",
            "1 2 0\n",
            "1 2 1\n",
            "1 2 2\n",
            "1 2 3\n",
            "1 3 0\n",
            "1 3 1\n",
            "1 3 2\n",
            "1 3 3\n",
            "2 0 0\n",
            "2 0 1\n",
            "2 0 2\n",
            "2 0 3\n",
            "2 1 0\n",
            "2 1 1\n",
            "2 1 2\n",
            "2 1 3\n",
            "2 2 0\n",
            "2 2 1\n",
            "2 2 2\n",
            "2 2 3\n",
            "2 3 0\n",
            "2 3 1\n",
            "2 3 2\n",
            "2 3 3\n",
            "3 0 0\n",
            "3 0 1\n",
            "3 0 2\n",
            "3 0 3\n",
            "3 1 0\n",
            "3 1 1\n",
            "3 1 2\n",
            "3 1 3\n",
            "3 2 0\n",
            "3 2 1\n",
            "3 2 2\n",
            "3 2 3\n",
            "3 3 0\n",
            "3 3 1\n",
            "3 3 2\n",
            "3 3 3\n"
          ]
        }
      ]
    },
    {
      "cell_type": "markdown",
      "source": [
        "ví dụ 5"
      ],
      "metadata": {
        "id": "X_OffgsWtCWJ"
      }
    },
    {
      "cell_type": "code",
      "source": [
        "for i1 in range(0, N):\n",
        "  for i2 in range(0, N):\n",
        "    for i3 in range(0, N):\n",
        "      if i1 != i2 and i2 != i3 and i1 != i3:\n",
        "        print (i1, i2, i3)"
      ],
      "metadata": {
        "colab": {
          "base_uri": "https://localhost:8080/"
        },
        "id": "WfrOCxnZtHk3",
        "outputId": "e5a5cb22-d32a-40fc-961b-8f93e749cf82"
      },
      "execution_count": 6,
      "outputs": [
        {
          "output_type": "stream",
          "name": "stdout",
          "text": [
            "0 1 2\n",
            "0 1 3\n",
            "0 2 1\n",
            "0 2 3\n",
            "0 3 1\n",
            "0 3 2\n",
            "1 0 2\n",
            "1 0 3\n",
            "1 2 0\n",
            "1 2 3\n",
            "1 3 0\n",
            "1 3 2\n",
            "2 0 1\n",
            "2 0 3\n",
            "2 1 0\n",
            "2 1 3\n",
            "2 3 0\n",
            "2 3 1\n",
            "3 0 1\n",
            "3 0 2\n",
            "3 1 0\n",
            "3 1 2\n",
            "3 2 0\n",
            "3 2 1\n"
          ]
        }
      ]
    },
    {
      "cell_type": "markdown",
      "source": [
        "ví dụ 6"
      ],
      "metadata": {
        "id": "w-VcrxIBtNoP"
      }
    },
    {
      "cell_type": "code",
      "source": [
        "for i1 in range(0, N):\n",
        "  for i2 in range(i1+1, N):\n",
        "    for i3 in range(i2+1, N):\n",
        "      print (i1, i2, i3)"
      ],
      "metadata": {
        "colab": {
          "base_uri": "https://localhost:8080/"
        },
        "id": "DtSkVETEtP8-",
        "outputId": "a0afe92d-f944-45af-86eb-4593a0ac3edb"
      },
      "execution_count": 7,
      "outputs": [
        {
          "output_type": "stream",
          "name": "stdout",
          "text": [
            "0 1 2\n",
            "0 1 3\n",
            "0 2 3\n",
            "1 2 3\n"
          ]
        }
      ]
    },
    {
      "cell_type": "markdown",
      "source": [
        "ví dụ 7"
      ],
      "metadata": {
        "id": "YsGgZ5B-tSNe"
      }
    },
    {
      "cell_type": "code",
      "source": [
        "for i1 in range(0, N):\n",
        "  for i2 in range(i1, N):\n",
        "    for i3 in range(i2, N):\n",
        "      print (i1, i2, i3)"
      ],
      "metadata": {
        "colab": {
          "base_uri": "https://localhost:8080/"
        },
        "id": "Kd6CUes4tV4O",
        "outputId": "367ce5d9-fa90-4a79-a672-062f2ac79a33"
      },
      "execution_count": 8,
      "outputs": [
        {
          "output_type": "stream",
          "name": "stdout",
          "text": [
            "0 0 0\n",
            "0 0 1\n",
            "0 0 2\n",
            "0 0 3\n",
            "0 1 1\n",
            "0 1 2\n",
            "0 1 3\n",
            "0 2 2\n",
            "0 2 3\n",
            "0 3 3\n",
            "1 1 1\n",
            "1 1 2\n",
            "1 1 3\n",
            "1 2 2\n",
            "1 2 3\n",
            "1 3 3\n",
            "2 2 2\n",
            "2 2 3\n",
            "2 3 3\n",
            "3 3 3\n"
          ]
        }
      ]
    },
    {
      "cell_type": "markdown",
      "source": [
        "ví dụ 7.2"
      ],
      "metadata": {
        "id": "Ny1D3LegtYSw"
      }
    },
    {
      "cell_type": "code",
      "source": [
        "N = 3\n",
        "ketqua = []\n",
        "for i1 in range(0, N):\n",
        " for i2 in range(i1, N):\n",
        "   for i3 in range(i2, N):\n",
        "      ketqua = ketqua + [(i1, i2, i3)]\n",
        "ketqua\n",
        "ketqua[3]"
      ],
      "metadata": {
        "colab": {
          "base_uri": "https://localhost:8080/"
        },
        "id": "ehCHOq3RtZ33",
        "outputId": "035c3fa0-e608-4a60-ee7e-d1d88a81c879"
      },
      "execution_count": 10,
      "outputs": [
        {
          "output_type": "execute_result",
          "data": {
            "text/plain": [
              "(0, 1, 1)"
            ]
          },
          "metadata": {},
          "execution_count": 10
        }
      ]
    },
    {
      "cell_type": "markdown",
      "source": [
        "1.2"
      ],
      "metadata": {
        "id": "d0X1pt4dtmBG"
      }
    },
    {
      "cell_type": "code",
      "source": [
        "def implies(a, b):\n",
        "  if a:\n",
        "      return b\n",
        "  else:\n",
        "      return True\n",
        "implies(10, 11)\n",
        "implies(1, 11)\n",
        "implies(0, 11)"
      ],
      "metadata": {
        "colab": {
          "base_uri": "https://localhost:8080/"
        },
        "id": "kaDSLdANtnUZ",
        "outputId": "728af7db-985c-4906-a2c8-6725b3e02dde"
      },
      "execution_count": 11,
      "outputs": [
        {
          "output_type": "execute_result",
          "data": {
            "text/plain": [
              "True"
            ]
          },
          "metadata": {},
          "execution_count": 11
        }
      ]
    },
    {
      "cell_type": "markdown",
      "source": [
        "1.2.1\n"
      ],
      "metadata": {
        "id": "Pel56ZcSt4h_"
      }
    },
    {
      "cell_type": "code",
      "source": [
        "x, y = 2, 3\n",
        "implies(x>=0 and y >=0, x*y >=0) \n",
        "x, y = -2, 3\n",
        "implies(x>=0 and y >=0, x*y >=0)"
      ],
      "metadata": {
        "colab": {
          "base_uri": "https://localhost:8080/"
        },
        "id": "8flb6Dc6t55K",
        "outputId": "3b05a84a-92df-4dde-a30c-81059db9154b"
      },
      "execution_count": 12,
      "outputs": [
        {
          "output_type": "execute_result",
          "data": {
            "text/plain": [
              "True"
            ]
          },
          "metadata": {},
          "execution_count": 12
        }
      ]
    },
    {
      "cell_type": "markdown",
      "source": [
        "2\n"
      ],
      "metadata": {
        "id": "7Xl36v8EuBZ3"
      }
    },
    {
      "cell_type": "code",
      "source": [
        "N = 3\n",
        "ketqua = []\n",
        "for i1 in range(0, N):\n",
        " for i2 in range(i1, N):\n",
        "  for i3 in range(i2, N):\n",
        "    ketqua = ketqua + [(i1, i2, i3)]\n",
        "(0, 2, 2) in ketqua"
      ],
      "metadata": {
        "colab": {
          "base_uri": "https://localhost:8080/"
        },
        "id": "fOdmRsqAuCnB",
        "outputId": "823db3df-c857-4450-ff87-7da55895eb75"
      },
      "execution_count": 14,
      "outputs": [
        {
          "output_type": "execute_result",
          "data": {
            "text/plain": [
              "True"
            ]
          },
          "metadata": {},
          "execution_count": 14
        }
      ]
    },
    {
      "cell_type": "code",
      "source": [
        "\n",
        "(0, 2, 1) in ketqua "
      ],
      "metadata": {
        "colab": {
          "base_uri": "https://localhost:8080/"
        },
        "id": "lbRwWJkvuXBh",
        "outputId": "ce1250b8-8ea8-49d5-da9e-3eae31008dc0"
      },
      "execution_count": 15,
      "outputs": [
        {
          "output_type": "execute_result",
          "data": {
            "text/plain": [
              "False"
            ]
          },
          "metadata": {},
          "execution_count": 15
        }
      ]
    },
    {
      "cell_type": "markdown",
      "source": [
        "2-phép giao "
      ],
      "metadata": {
        "id": "wenp1JZducCW"
      }
    },
    {
      "cell_type": "code",
      "source": [
        "A = [0, 1, 2, 3, 4, 5, 6, 7]\n",
        "B = [2, 4, 6, 8, 10]\n",
        "def intersection(A, B):\n",
        "  ketqua = []\n",
        "  for x in A:\n",
        "      if x in B:\n",
        "        ketqua = ketqua + [x]\n",
        "  return ketqua \n",
        "intersection(A, B) "
      ],
      "metadata": {
        "colab": {
          "base_uri": "https://localhost:8080/"
        },
        "id": "zpAzgrGUuftG",
        "outputId": "7cc0595d-f62d-425a-ff22-34f7147e73e1"
      },
      "execution_count": 18,
      "outputs": [
        {
          "output_type": "execute_result",
          "data": {
            "text/plain": [
              "[2, 4, 6]"
            ]
          },
          "metadata": {},
          "execution_count": 18
        }
      ]
    },
    {
      "cell_type": "markdown",
      "source": [
        "2-Phép tìm tập hiệu"
      ],
      "metadata": {
        "id": "-3b6rw78u0DP"
      }
    },
    {
      "cell_type": "code",
      "source": [
        "def difference(A, B):\n",
        " ketqua = []\n",
        " for x in A:\n",
        "  if x not in B:\n",
        "    ketqua = ketqua + [x]\n",
        " return ketqua\n",
        "A = [0, 1, 2, 3, 4, 5, 6, 7]\n",
        "B = [2, 4, 6, 8, 10]\n",
        "difference(A, B) "
      ],
      "metadata": {
        "colab": {
          "base_uri": "https://localhost:8080/"
        },
        "id": "t2FshiSzu2uA",
        "outputId": "03eb0c53-422c-4a98-abdc-438644c8f6d1"
      },
      "execution_count": 19,
      "outputs": [
        {
          "output_type": "execute_result",
          "data": {
            "text/plain": [
              "[0, 1, 3, 5, 7]"
            ]
          },
          "metadata": {},
          "execution_count": 19
        }
      ]
    },
    {
      "cell_type": "markdown",
      "source": [
        "2-Phép kiểm tra tập con"
      ],
      "metadata": {
        "id": "Dm6kHsX3u9N2"
      }
    },
    {
      "cell_type": "code",
      "source": [
        "def isSubSet(A, B):\n",
        " ketqua = True # DUNG\n",
        " for x in A:\n",
        "  if x not in B:\n",
        "    ketqua = False # SAI\n",
        " return ketqua\n",
        "A = [0, 1, 2, 3, 4, 5, 6, 7]\n",
        "B = [2, 4, 6, 8, 10]\n",
        "isSubSet(A, B) "
      ],
      "metadata": {
        "colab": {
          "base_uri": "https://localhost:8080/"
        },
        "id": "NBAIWtT9u_aH",
        "outputId": "192b45e1-886d-4965-939e-8e6539bea103"
      },
      "execution_count": 20,
      "outputs": [
        {
          "output_type": "execute_result",
          "data": {
            "text/plain": [
              "False"
            ]
          },
          "metadata": {},
          "execution_count": 20
        }
      ]
    },
    {
      "cell_type": "code",
      "source": [
        "B = [1, 3, 5, 7]\n",
        "isSubSet(A, B)"
      ],
      "metadata": {
        "colab": {
          "base_uri": "https://localhost:8080/"
        },
        "id": "ISshH-QqvJ9e",
        "outputId": "826d1bcd-c3d9-455c-e592-132c1080700e"
      },
      "execution_count": 21,
      "outputs": [
        {
          "output_type": "execute_result",
          "data": {
            "text/plain": [
              "False"
            ]
          },
          "metadata": {},
          "execution_count": 21
        }
      ]
    },
    {
      "cell_type": "code",
      "source": [
        "isSubSet(B, A)"
      ],
      "metadata": {
        "colab": {
          "base_uri": "https://localhost:8080/"
        },
        "id": "RYRwFrunvN9_",
        "outputId": "5eb1c7b2-e93a-4ad1-f1cc-cc76963099a3"
      },
      "execution_count": 22,
      "outputs": [
        {
          "output_type": "execute_result",
          "data": {
            "text/plain": [
              "True"
            ]
          },
          "metadata": {},
          "execution_count": 22
        }
      ]
    },
    {
      "cell_type": "code",
      "source": [
        "def equalSets(A, B):\n",
        " return isSubSet(A, B) and isSubSet(B, A)\n",
        "equalSets([1, 3, 5, 7], [7, 3, 1, 5])  "
      ],
      "metadata": {
        "colab": {
          "base_uri": "https://localhost:8080/"
        },
        "id": "_Hy6skmgvQjG",
        "outputId": "18f47cb2-1c49-48b9-89b5-deb3a7d6a287"
      },
      "execution_count": 23,
      "outputs": [
        {
          "output_type": "execute_result",
          "data": {
            "text/plain": [
              "True"
            ]
          },
          "metadata": {},
          "execution_count": 23
        }
      ]
    },
    {
      "cell_type": "markdown",
      "source": [
        ". Bài toán ứng dụng 1: Xây dựng danh sách tour địa điểm du lịch tại TP.HCM"
      ],
      "metadata": {
        "id": "nGdi3etzveWX"
      }
    },
    {
      "cell_type": "code",
      "source": [
        ""
      ],
      "metadata": {
        "id": "5JOl_ZauvfOW"
      },
      "execution_count": null,
      "outputs": []
    },
    {
      "cell_type": "markdown",
      "source": [
        "3.1"
      ],
      "metadata": {
        "id": "M5EXOYeIvg3H"
      }
    },
    {
      "cell_type": "code",
      "source": [
        "sodiem_DL = 9\n",
        "diadiem = ['Cần Giờ', 'Củ Chi', 'Chợ Bến Thành', 'Sở Thú', 'BV thẫm mỹ răng', 'Chí Hòa',\n",
        "'Dinh Độc lập', 'Bào tàng', 'Trường Văn Lang']\n",
        "thoigian = [1.0, 1.0, 0.6, 0.4, 1.5, 0.3, 0.3, 0.3, 0.6]\n",
        "songay_dulich = 1.5"
      ],
      "metadata": {
        "id": "deRWh0F_viSj"
      },
      "execution_count": 24,
      "outputs": []
    },
    {
      "cell_type": "markdown",
      "source": [
        "3.2"
      ],
      "metadata": {
        "id": "mJPX0K3Tv5OW"
      }
    },
    {
      "cell_type": "code",
      "source": [
        "def lietke_chuoinhiphan(n):\n",
        "  danh_sach = []\n",
        "  #bat_dau = 1\n",
        "  for i in range(0, 2**n): #chay den 2^n-1\n",
        "    gia_tri = i\n",
        "    chuoi_np = bin(gia_tri).replace('0b', '')\n",
        "    while (len(chuoi_np) < n):\n",
        "      chuoi_np = '0' + chuoi_np\n",
        "      danh_sach.append(chuoi_np) #them chuoi vao ket qua\n",
        "      #print (chuoi_np)\n",
        "  return danh_sach"
      ],
      "metadata": {
        "id": "SOUAaMXgv7vF"
      },
      "execution_count": 25,
      "outputs": []
    },
    {
      "cell_type": "code",
      "source": [
        "bin(10)"
      ],
      "metadata": {
        "colab": {
          "base_uri": "https://localhost:8080/",
          "height": 35
        },
        "id": "Lx5VME6dwWxO",
        "outputId": "86d634f4-d10c-476a-e23f-61567e45b2c9"
      },
      "execution_count": 26,
      "outputs": [
        {
          "output_type": "execute_result",
          "data": {
            "text/plain": [
              "'0b1010'"
            ],
            "application/vnd.google.colaboratory.intrinsic+json": {
              "type": "string"
            }
          },
          "metadata": {},
          "execution_count": 26
        }
      ]
    },
    {
      "cell_type": "code",
      "source": [
        "bin(10).replace('0b', '') "
      ],
      "metadata": {
        "colab": {
          "base_uri": "https://localhost:8080/",
          "height": 35
        },
        "id": "1-86S3Sywawm",
        "outputId": "d8460b74-06a7-413e-8772-0c23ff23a521"
      },
      "execution_count": 27,
      "outputs": [
        {
          "output_type": "execute_result",
          "data": {
            "text/plain": [
              "'1010'"
            ],
            "application/vnd.google.colaboratory.intrinsic+json": {
              "type": "string"
            }
          },
          "metadata": {},
          "execution_count": 27
        }
      ]
    },
    {
      "cell_type": "code",
      "source": [
        "n = 9\n",
        "chuoi_np = bin(10).replace('0b','')\n",
        "while (len(chuoi_np) < n):\n",
        " chuoi_np = '0' + chuoi_np\n",
        "chuoi_np "
      ],
      "metadata": {
        "colab": {
          "base_uri": "https://localhost:8080/",
          "height": 35
        },
        "id": "ddyTNZfmwfHm",
        "outputId": "8fd7a9ff-e4f7-4428-adb2-42ff424b39a8"
      },
      "execution_count": 28,
      "outputs": [
        {
          "output_type": "execute_result",
          "data": {
            "text/plain": [
              "'000001010'"
            ],
            "application/vnd.google.colaboratory.intrinsic+json": {
              "type": "string"
            }
          },
          "metadata": {},
          "execution_count": 28
        }
      ]
    },
    {
      "cell_type": "code",
      "source": [
        "lietke_chuoinhiphan(3) "
      ],
      "metadata": {
        "colab": {
          "base_uri": "https://localhost:8080/"
        },
        "id": "LRB0u-bhwoKu",
        "outputId": "9fb15e95-11df-48c0-e2f1-add921cd0952"
      },
      "execution_count": 29,
      "outputs": [
        {
          "output_type": "execute_result",
          "data": {
            "text/plain": [
              "['00', '000', '01', '001', '010', '011']"
            ]
          },
          "metadata": {},
          "execution_count": 29
        }
      ]
    },
    {
      "cell_type": "code",
      "source": [
        "lietke_chuoinhiphan(4)"
      ],
      "metadata": {
        "colab": {
          "base_uri": "https://localhost:8080/"
        },
        "id": "ZC9lGzkNws8H",
        "outputId": "0d20a28f-811e-41ef-cd69-8ac008e97abb"
      },
      "execution_count": 30,
      "outputs": [
        {
          "output_type": "execute_result",
          "data": {
            "text/plain": [
              "['00',\n",
              " '000',\n",
              " '0000',\n",
              " '01',\n",
              " '001',\n",
              " '0001',\n",
              " '010',\n",
              " '0010',\n",
              " '011',\n",
              " '0011',\n",
              " '0100',\n",
              " '0101',\n",
              " '0110',\n",
              " '0111']"
            ]
          },
          "metadata": {},
          "execution_count": 30
        }
      ]
    },
    {
      "cell_type": "code",
      "source": [
        "def kiemtra_chuoi(chuoi_dang_chon, danhsach, gioihan):\n",
        "  tong_thoigian = 0\n",
        "  for j in range(0, len(chuoi_dang_chon)):\n",
        "    if chuoi_dang_chon(j) == '1':\n",
        "      tong_thoigian = tong_thoigian + thoigian[j]\n",
        "  ketqua = True #nghia la OK\n",
        "  if tong_thoigian > gioihan:\n",
        "    ketqua = False #khong duoc\n",
        "  return ketqua, tong_thoigian"
      ],
      "metadata": {
        "id": "TZD9lYpFwzC3"
      },
      "execution_count": 31,
      "outputs": []
    },
    {
      "cell_type": "code",
      "source": [
        "def tim_phuongan(thoigian, gioihan):\n",
        "  search =[]\n",
        "  cac_phuongan = lietke_chuoinhiphan(len(thoigian))\n",
        "  for i in range(len(cac_phuongan)):\n",
        "    diem = kiemtra_chuoi(cac_phuongan[i], thoigian, gioihan)\n",
        "  if diem==True:\n",
        "      print (cac_phuongan[i] ,diem)\n",
        "      search.append(cac_phuongan[i])\n",
        "  return search"
      ],
      "metadata": {
        "id": "iSr38Dwqwzpe"
      },
      "execution_count": 35,
      "outputs": []
    },
    {
      "cell_type": "code",
      "source": [
        "songay_dulich = 1.5\n",
        "tim_phuongan(thoigian, songay_dulich)"
      ],
      "metadata": {
        "id": "BKajfB3zzTTu"
      },
      "execution_count": null,
      "outputs": []
    }
  ]
}